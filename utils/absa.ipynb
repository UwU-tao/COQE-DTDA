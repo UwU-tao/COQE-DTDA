{
 "cells": [
  {
   "cell_type": "code",
   "execution_count": 3,
   "metadata": {},
   "outputs": [
    {
     "data": {
      "text/plain": [
       "\"([60], [3], 'NEG')\""
      ]
     },
     "execution_count": 3,
     "metadata": {},
     "output_type": "execute_result"
    }
   ],
   "source": [
    "import re\n",
    "\n",
    "text = \"I was very disappointed with this restaurant.####[([60], [3], 'NEG')]\"\n",
    "text_, labels = text.split(\"####\")\n",
    "labels[1:-1]\n",
    "# elements = re.findall(r'\\d+|NEG', text)\n",
    "\n",
    "# sub = int(elements[0])\n",
    "# print(len(elements[0]))  # 将字符串'6'转换为整数并赋值给sub\n",
    "# asp = int(elements[1])  # 将字符串'3'转换为整数并赋值给asp\n",
    "# rel = elements[2]       # 将字符串'NEG'赋值给rel\n",
    "\n",
    "# print(sub, asp, rel)\n",
    "\n"
   ]
  },
  {
   "cell_type": "code",
   "execution_count": 12,
   "metadata": {},
   "outputs": [
    {
     "name": "stdout",
     "output_type": "stream",
     "text": [
      "[([10], [9], 'NEG')]\n",
      "<class 'list'>\n",
      "[([19], [31], 'NEG')]\n",
      "<class 'list'>\n",
      "[([1], [3], 'NEG'), ([1], [5, 6], 'NEG'), ([1], [8, 9], 'NEG'), ([12], [13], 'NEG')]\n",
      "<class 'list'>\n",
      "[([2], [0], 'NEG')]\n",
      "<class 'list'>\n",
      "[([10], [16], 'POS')]\n",
      "<class 'list'>\n",
      "[([0], [3], 'POS')]\n",
      "<class 'list'>\n",
      "[([8, 9, 10, 11, 12], [14, 15, 16, 17], 'POS'), ([1, 2], [5], 'POS')]\n",
      "<class 'list'>\n",
      "[([1, 2], [4], 'POS'), ([1, 2], [8, 9], 'POS')]\n",
      "<class 'list'>\n",
      "[([6], [3], 'NEG')]\n",
      "<class 'list'>\n",
      "[([0], [2], 'NEU'), ([0], [4, 5], 'NEU')]\n",
      "<class 'list'>\n"
     ]
    }
   ],
   "source": [
    "from typing import List\n",
    "\n",
    "data_path = \"/home/qtxu/Sentiment-SPN/utils/train_triplets.txt\"\n",
    "with open(data_path,\"r\") as fr:\n",
    "    lines = fr.readlines()\n",
    "    for line in lines:\n",
    "        text, all_labels = line.split(\"####\")\n",
    "        # print(list(all_labels))\n",
    "\n",
    "        labels_list = eval(all_labels) # 将str转化成list\n",
    "        print(labels_list)\n",
    "        print(type(labels_list))"
   ]
  },
  {
   "cell_type": "code",
   "execution_count": 20,
   "metadata": {},
   "outputs": [
    {
     "name": "stdout",
     "output_type": "stream",
     "text": [
      "<class 'list'>\n",
      "([1], [3], 'NEG')\n",
      "[1]\n",
      "<class 'list'>\n",
      "1\n",
      "3\n",
      "<class 'int'>\n",
      "([1], [5, 6], 'NEG')\n",
      "[1]\n",
      "<class 'list'>\n",
      "2\n",
      "5\n",
      "<class 'int'>\n",
      "([1], [8, 9], 'NEG')\n",
      "[1]\n",
      "<class 'list'>\n",
      "2\n",
      "8\n",
      "<class 'int'>\n",
      "([12], [13], 'NEG')\n",
      "[12]\n",
      "<class 'list'>\n",
      "1\n",
      "13\n",
      "<class 'int'>\n"
     ]
    }
   ],
   "source": [
    "from itertools import chain\n",
    "\n",
    "lst = \"[([1], [3], 'NEG'), ([1], [5, 6], 'NEG'), ([1], [8, 9], 'NEG'), ([12], [13], 'NEG')]\"\n",
    "lst_list = eval(lst)\n",
    "print(type(lst_list))\n",
    "for tup in lst_list:\n",
    "    aspect = tup[0]\n",
    "    opinion = tup[1]\n",
    "    sentiment = tup[2]\n",
    "\n",
    "    print(tup)\n",
    "    print(aspect)\n",
    "    print(type(opinion))\n",
    "    print(len(opinion))\n",
    "    print(opinion[0])\n",
    "    print(type(opinion[0]))\n",
    "    # print(opinion)\n",
    "    # print(sentiment)\n",
    "\n"
   ]
  }
 ],
 "metadata": {
  "kernelspec": {
   "display_name": "base",
   "language": "python",
   "name": "python3"
  },
  "language_info": {
   "codemirror_mode": {
    "name": "ipython",
    "version": 3
   },
   "file_extension": ".py",
   "mimetype": "text/x-python",
   "name": "python",
   "nbconvert_exporter": "python",
   "pygments_lexer": "ipython3",
   "version": "3.7.0"
  },
  "orig_nbformat": 4,
  "vscode": {
   "interpreter": {
    "hash": "474bbac98d51805a156698a619a2d7380fa8ddb16e199f64231ae0f8fa37f370"
   }
  }
 },
 "nbformat": 4,
 "nbformat_minor": 2
}
